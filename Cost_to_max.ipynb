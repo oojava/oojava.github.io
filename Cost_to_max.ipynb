{
  "nbformat": 4,
  "nbformat_minor": 0,
  "metadata": {
    "colab": {
      "name": "Cost to max",
      "provenance": [],
      "authorship_tag": "ABX9TyPa2W0PuBBIyz1q8O41Nfzf",
      "include_colab_link": true
    },
    "kernelspec": {
      "name": "python3",
      "display_name": "Python 3"
    },
    "widgets": {
      "application/vnd.jupyter.widget-state+json": {
        "93e44466324a4469aee08244688cf256": {
          "model_module": "@jupyter-widgets/controls",
          "model_name": "IntTextModel",
          "state": {
            "_view_name": "IntTextView",
            "style": "IPY_MODEL_1e64ce4a84eb4ed4843e08c7060d5e8f",
            "_dom_classes": [],
            "description": "Current Gp:",
            "_model_name": "IntTextModel",
            "_view_module": "@jupyter-widgets/controls",
            "_model_module_version": "1.5.0",
            "value": 0,
            "_view_count": null,
            "disabled": false,
            "_view_module_version": "1.5.0",
            "continuous_update": false,
            "step": 1,
            "description_tooltip": null,
            "_model_module": "@jupyter-widgets/controls",
            "layout": "IPY_MODEL_d80cfc4b2efa4b229a2699ea26aab4a1"
          }
        },
        "1e64ce4a84eb4ed4843e08c7060d5e8f": {
          "model_module": "@jupyter-widgets/controls",
          "model_name": "DescriptionStyleModel",
          "state": {
            "_view_name": "StyleView",
            "_model_name": "DescriptionStyleModel",
            "description_width": "",
            "_view_module": "@jupyter-widgets/base",
            "_model_module_version": "1.5.0",
            "_view_count": null,
            "_view_module_version": "1.2.0",
            "_model_module": "@jupyter-widgets/controls"
          }
        },
        "d80cfc4b2efa4b229a2699ea26aab4a1": {
          "model_module": "@jupyter-widgets/base",
          "model_name": "LayoutModel",
          "state": {
            "_view_name": "LayoutView",
            "grid_template_rows": null,
            "right": null,
            "justify_content": null,
            "_view_module": "@jupyter-widgets/base",
            "overflow": null,
            "_model_module_version": "1.2.0",
            "_view_count": null,
            "flex_flow": null,
            "width": null,
            "min_width": null,
            "border": null,
            "align_items": null,
            "bottom": null,
            "_model_module": "@jupyter-widgets/base",
            "top": null,
            "grid_column": null,
            "overflow_y": null,
            "overflow_x": null,
            "grid_auto_flow": null,
            "grid_area": null,
            "grid_template_columns": null,
            "flex": null,
            "_model_name": "LayoutModel",
            "justify_items": null,
            "grid_row": null,
            "max_height": null,
            "align_content": null,
            "visibility": null,
            "align_self": null,
            "height": null,
            "min_height": null,
            "padding": null,
            "grid_auto_rows": null,
            "grid_gap": null,
            "max_width": null,
            "order": null,
            "_view_module_version": "1.2.0",
            "grid_template_areas": null,
            "object_position": null,
            "object_fit": null,
            "grid_auto_columns": null,
            "margin": null,
            "display": null,
            "left": null
          }
        },
        "9c6de8c8b04c4bbbabce44e0de653a4c": {
          "model_module": "@jupyter-widgets/controls",
          "model_name": "TextModel",
          "state": {
            "_view_name": "TextView",
            "style": "IPY_MODEL_bd4addb303b8423380eda29f17f3a255",
            "_dom_classes": [],
            "description": "RSN:",
            "_model_name": "TextModel",
            "placeholder": "​",
            "_view_module": "@jupyter-widgets/controls",
            "_model_module_version": "1.5.0",
            "value": "qez",
            "_view_count": null,
            "disabled": false,
            "_view_module_version": "1.5.0",
            "continuous_update": true,
            "description_tooltip": null,
            "_model_module": "@jupyter-widgets/controls",
            "layout": "IPY_MODEL_b4367971b1cc466494f538fd033af21f"
          }
        },
        "bd4addb303b8423380eda29f17f3a255": {
          "model_module": "@jupyter-widgets/controls",
          "model_name": "DescriptionStyleModel",
          "state": {
            "_view_name": "StyleView",
            "_model_name": "DescriptionStyleModel",
            "description_width": "",
            "_view_module": "@jupyter-widgets/base",
            "_model_module_version": "1.5.0",
            "_view_count": null,
            "_view_module_version": "1.2.0",
            "_model_module": "@jupyter-widgets/controls"
          }
        },
        "b4367971b1cc466494f538fd033af21f": {
          "model_module": "@jupyter-widgets/base",
          "model_name": "LayoutModel",
          "state": {
            "_view_name": "LayoutView",
            "grid_template_rows": null,
            "right": null,
            "justify_content": null,
            "_view_module": "@jupyter-widgets/base",
            "overflow": null,
            "_model_module_version": "1.2.0",
            "_view_count": null,
            "flex_flow": null,
            "width": null,
            "min_width": null,
            "border": null,
            "align_items": null,
            "bottom": null,
            "_model_module": "@jupyter-widgets/base",
            "top": null,
            "grid_column": null,
            "overflow_y": null,
            "overflow_x": null,
            "grid_auto_flow": null,
            "grid_area": null,
            "grid_template_columns": null,
            "flex": null,
            "_model_name": "LayoutModel",
            "justify_items": null,
            "grid_row": null,
            "max_height": null,
            "align_content": null,
            "visibility": null,
            "align_self": null,
            "height": null,
            "min_height": null,
            "padding": null,
            "grid_auto_rows": null,
            "grid_gap": null,
            "max_width": null,
            "order": null,
            "_view_module_version": "1.2.0",
            "grid_template_areas": null,
            "object_position": null,
            "object_fit": null,
            "grid_auto_columns": null,
            "margin": null,
            "display": null,
            "left": null
          }
        },
        "d2aa5de92fe343b8b519bc3045ec8df0": {
          "model_module": "@jupyter-widgets/controls",
          "model_name": "IntSliderModel",
          "state": {
            "_view_name": "IntSliderView",
            "style": "IPY_MODEL_b1b9feef0e3f4bc4938fade1aa74afa8",
            "_dom_classes": [],
            "description": "Inv's per world",
            "step": 1,
            "_model_name": "IntSliderModel",
            "orientation": "horizontal",
            "max": 3,
            "_view_module": "@jupyter-widgets/controls",
            "_model_module_version": "1.5.0",
            "value": 3,
            "_view_count": null,
            "disabled": false,
            "_view_module_version": "1.5.0",
            "min": 1,
            "continuous_update": true,
            "readout_format": "d",
            "description_tooltip": null,
            "readout": true,
            "_model_module": "@jupyter-widgets/controls",
            "layout": "IPY_MODEL_805ed3dc5d784017b6f6dc3757c8a867"
          }
        },
        "b1b9feef0e3f4bc4938fade1aa74afa8": {
          "model_module": "@jupyter-widgets/controls",
          "model_name": "SliderStyleModel",
          "state": {
            "_view_name": "StyleView",
            "handle_color": null,
            "_model_name": "SliderStyleModel",
            "description_width": "",
            "_view_module": "@jupyter-widgets/base",
            "_model_module_version": "1.5.0",
            "_view_count": null,
            "_view_module_version": "1.2.0",
            "_model_module": "@jupyter-widgets/controls"
          }
        },
        "805ed3dc5d784017b6f6dc3757c8a867": {
          "model_module": "@jupyter-widgets/base",
          "model_name": "LayoutModel",
          "state": {
            "_view_name": "LayoutView",
            "grid_template_rows": null,
            "right": null,
            "justify_content": null,
            "_view_module": "@jupyter-widgets/base",
            "overflow": null,
            "_model_module_version": "1.2.0",
            "_view_count": null,
            "flex_flow": null,
            "width": null,
            "min_width": null,
            "border": null,
            "align_items": null,
            "bottom": null,
            "_model_module": "@jupyter-widgets/base",
            "top": null,
            "grid_column": null,
            "overflow_y": null,
            "overflow_x": null,
            "grid_auto_flow": null,
            "grid_area": null,
            "grid_template_columns": null,
            "flex": null,
            "_model_name": "LayoutModel",
            "justify_items": null,
            "grid_row": null,
            "max_height": null,
            "align_content": null,
            "visibility": null,
            "align_self": null,
            "height": null,
            "min_height": null,
            "padding": null,
            "grid_auto_rows": null,
            "grid_gap": null,
            "max_width": null,
            "order": null,
            "_view_module_version": "1.2.0",
            "grid_template_areas": null,
            "object_position": null,
            "object_fit": null,
            "grid_auto_columns": null,
            "margin": null,
            "display": null,
            "left": null
          }
        }
      }
    }
  },
  "cells": [
    {
      "cell_type": "markdown",
      "metadata": {
        "id": "view-in-github",
        "colab_type": "text"
      },
      "source": [
        "<a href=\"https://colab.research.google.com/github/oojava/oojava.github.io/blob/master/Cost_to_max.ipynb\" target=\"_parent\"><img src=\"https://colab.research.google.com/assets/colab-badge.svg\" alt=\"Open In Colab\"/></a>"
      ]
    },
    {
      "cell_type": "code",
      "metadata": {
        "id": "1u1UGZH9-NDD",
        "colab_type": "code",
        "colab": {}
      },
      "source": [
        "\n",
        "!pip install ipywidgets\n",
        "!pip install OSRS-Hiscores"
      ],
      "execution_count": null,
      "outputs": []
    },
    {
      "cell_type": "code",
      "metadata": {
        "id": "hToCsvEVMqis",
        "colab_type": "code",
        "colab": {}
      },
      "source": [
        "import ipywidgets as widgets\n",
        "from IPython.display import display\n",
        "from OSRS_Hiscores import Hiscores"
      ],
      "execution_count": null,
      "outputs": []
    },
    {
      "cell_type": "code",
      "metadata": {
        "id": "4voAhLVxM0FY",
        "colab_type": "code",
        "colab": {
          "base_uri": "https://localhost:8080/",
          "height": 79,
          "referenced_widgets": [
            "93e44466324a4469aee08244688cf256",
            "1e64ce4a84eb4ed4843e08c7060d5e8f",
            "d80cfc4b2efa4b229a2699ea26aab4a1",
            "9c6de8c8b04c4bbbabce44e0de653a4c",
            "bd4addb303b8423380eda29f17f3a255",
            "b4367971b1cc466494f538fd033af21f"
          ]
        },
        "outputId": "2f2cfeed-14ed-4f9d-fb3b-8ded5a4e8fb9"
      },
      "source": [
        "rsn = widgets.Text(value=\"qez\",description=\"RSN:\")\n",
        "gpInput = widgets.IntText(description=\"Current Gp:\")\n",
        "display(gpInput,rsn)"
      ],
      "execution_count": null,
      "outputs": [
        {
          "output_type": "display_data",
          "data": {
            "application/vnd.jupyter.widget-view+json": {
              "model_id": "93e44466324a4469aee08244688cf256",
              "version_minor": 0,
              "version_major": 2
            },
            "text/plain": [
              "IntText(value=0, description='Current Gp:')"
            ]
          },
          "metadata": {
            "tags": []
          }
        },
        {
          "output_type": "display_data",
          "data": {
            "application/vnd.jupyter.widget-view+json": {
              "model_id": "9c6de8c8b04c4bbbabce44e0de653a4c",
              "version_minor": 0,
              "version_major": 2
            },
            "text/plain": [
              "Text(value='qez', description='RSN:')"
            ]
          },
          "metadata": {
            "tags": []
          }
        }
      ]
    },
    {
      "cell_type": "code",
      "metadata": {
        "id": "ADKenG1lNEnz",
        "colab_type": "code",
        "colab": {}
      },
      "source": [
        "user = Hiscores(rsn.value)\n",
        "xpFor99 = 13034431"
      ],
      "execution_count": null,
      "outputs": []
    },
    {
      "cell_type": "code",
      "metadata": {
        "id": "E5wQfag3Nbqp",
        "colab_type": "code",
        "colab": {
          "base_uri": "https://localhost:8080/",
          "height": 74
        },
        "outputId": "71ed091f-e507-4aac-8ce7-e5f7b84a6f6c"
      },
      "source": [
        "print(user.stats[\"construction\"][\"experience\"])\n",
        "print(user.stats[\"smithing\"][\"experience\"])\n",
        "print(user.stats[\"fletching\"][\"experience\"])"
      ],
      "execution_count": null,
      "outputs": [
        {
          "output_type": "stream",
          "text": [
            "13328920\n",
            "5435984\n",
            "3974906\n"
          ],
          "name": "stdout"
        }
      ]
    },
    {
      "cell_type": "code",
      "metadata": {
        "id": "wVkxYaKuOxlA",
        "colab_type": "code",
        "colab": {
          "base_uri": "https://localhost:8080/",
          "height": 36
        },
        "outputId": "13a76986-2b2a-403e-9443-5e089fa5fdaa"
      },
      "source": [
        "conGPXP = 4.8\n",
        "smithingGPXP = [5.04,6.12,7.20]\n",
        "smithing1GPXP = 5.04\n",
        "smithing2GPXP = 6.12\n",
        "smithing3GPXP = 7.20\n",
        "fletchingGPXP = 5.7"
      ],
      "execution_count": null,
      "outputs": [
        {
          "output_type": "stream",
          "text": [
            "7.2\n"
          ],
          "name": "stdout"
        }
      ]
    },
    {
      "cell_type": "code",
      "metadata": {
        "id": "UGkBT2gSRaIk",
        "colab_type": "code",
        "colab": {
          "base_uri": "https://localhost:8080/",
          "height": 74
        },
        "outputId": "8f463f23-a0de-4e87-9926-4fcb707fec27"
      },
      "source": [
        "xpLeftCon = xpFor99 - user.stats[\"construction\"][\"experience\"]\n",
        "xpLeftSmith = xpFor99 - user.stats[\"smithing\"][\"experience\"]\n",
        "xpLeftFletch = xpFor99 - user.stats[\"fletching\"][\"experience\"]\n",
        "\n",
        "xpLeftCon = xpLeftCon if xpLeftCon > 0 else 0\n",
        "xpLeftSmith = xpLeftSmith if xpLeftSmith > 0 else 0\n",
        "xpLeftFletch = xpLeftFletch if xpLeftFletch > 0 else 0\n",
        "\n",
        "print(xpLeftCon)\n",
        "print(xpLeftSmith)\n",
        "print(xpLeftFletch)"
      ],
      "execution_count": null,
      "outputs": [
        {
          "output_type": "stream",
          "text": [
            "0\n",
            "7598447\n",
            "9059525\n"
          ],
          "name": "stdout"
        }
      ]
    },
    {
      "cell_type": "code",
      "metadata": {
        "id": "s1OHgHHuR7tc",
        "colab_type": "code",
        "colab": {
          "base_uri": "https://localhost:8080/",
          "height": 49,
          "referenced_widgets": [
            "d2aa5de92fe343b8b519bc3045ec8df0",
            "b1b9feef0e3f4bc4938fade1aa74afa8",
            "805ed3dc5d784017b6f6dc3757c8a867"
          ]
        },
        "outputId": "1327c155-a3ca-4073-dda2-ad019f3ccb2c"
      },
      "source": [
        "smithMethod = widgets.IntSlider(\n",
        "    min=1,\n",
        "    max=3,\n",
        "    step=1,\n",
        "    description=\"Inv's per world\",\n",
        "    value=3\n",
        ")\n",
        "display(smithMethod)"
      ],
      "execution_count": null,
      "outputs": [
        {
          "output_type": "display_data",
          "data": {
            "application/vnd.jupyter.widget-view+json": {
              "model_id": "d2aa5de92fe343b8b519bc3045ec8df0",
              "version_minor": 0,
              "version_major": 2
            },
            "text/plain": [
              "IntSlider(value=3, description=\"Inv's per world\", max=3, min=1)"
            ]
          },
          "metadata": {
            "tags": []
          }
        }
      ]
    },
    {
      "cell_type": "code",
      "metadata": {
        "id": "obcvDGURS6eZ",
        "colab_type": "code",
        "colab": {
          "base_uri": "https://localhost:8080/",
          "height": 55
        },
        "outputId": "8aa21c41-ec89-4c64-fccf-25089971e74a"
      },
      "source": [
        "gpLeftCon = (xpLeftCon * conGPXP)\n",
        "gpLeftSmith = (xpLeftSmith * smithingGPXP[smithMethod.value - 1])\n",
        "gpLeftFletch = (xpLeftFletch * fletchingGPXP)\n",
        "totalGPNeeded = gpLeftCon + gpLeftFletch + gpLeftSmith\n",
        "print(\"GP needed:\")\n",
        "print(totalGPNeeded)"
      ],
      "execution_count": null,
      "outputs": [
        {
          "output_type": "stream",
          "text": [
            "GP needed:\n",
            "106348110.9\n"
          ],
          "name": "stdout"
        }
      ]
    },
    {
      "cell_type": "code",
      "metadata": {
        "id": "LThRVRhtVDrr",
        "colab_type": "code",
        "colab": {
          "base_uri": "https://localhost:8080/",
          "height": 36
        },
        "outputId": "05b7f59c-c76f-4212-b609-b0bf688e8a15"
      },
      "source": [
        "gpLeft = totalGPNeeded - gpInput.value\n",
        "\n",
        "gpDaylyStaffs = 120 * (9300 - 7000 - (112.5*3) - )\n",
        "\n",
        "print(gpLeft)"
      ],
      "execution_count": null,
      "outputs": [
        {
          "output_type": "stream",
          "text": [
            "106348110.9\n"
          ],
          "name": "stdout"
        }
      ]
    },
    {
      "cell_type": "code",
      "metadata": {
        "id": "9hImAro3TqFa",
        "colab_type": "code",
        "colab": {}
      },
      "source": [
        ""
      ],
      "execution_count": null,
      "outputs": []
    }
  ]
}